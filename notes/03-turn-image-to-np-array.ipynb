{
 "cells": [
  {
   "cell_type": "markdown",
   "id": "a370b279-9bac-4b52-9647-1f7aef157a90",
   "metadata": {},
   "source": [
    "# Turn images to numpy array"
   ]
  },
  {
   "cell_type": "code",
   "execution_count": 1,
   "id": "bc2db1c4-f515-43bf-910b-3949f66da823",
   "metadata": {},
   "outputs": [],
   "source": [
    "import numpy as np"
   ]
  },
  {
   "cell_type": "markdown",
   "id": "46c3c836-ecc6-406c-91a3-a119d408bed2",
   "metadata": {},
   "source": [
    "<img src='sample.jpg'>"
   ]
  },
  {
   "cell_type": "code",
   "execution_count": 2,
   "id": "be8731e0-e84c-4e47-aa4b-3d21c1749508",
   "metadata": {},
   "outputs": [],
   "source": [
    "from matplotlib.image import imread"
   ]
  },
  {
   "cell_type": "code",
   "execution_count": 3,
   "id": "4aa38df0-c426-48e5-9524-1c7550ad8277",
   "metadata": {},
   "outputs": [],
   "source": [
    "sample_image = imread('sample.jpg')"
   ]
  },
  {
   "cell_type": "code",
   "execution_count": 4,
   "id": "e3a09005-da3f-4d32-bdeb-c8f500088fc3",
   "metadata": {},
   "outputs": [
    {
     "data": {
      "text/plain": [
       "array([[[164, 180, 169],\n",
       "        [164, 180, 169],\n",
       "        [164, 180, 169],\n",
       "        ...,\n",
       "        [164, 180, 169],\n",
       "        [164, 180, 169],\n",
       "        [164, 180, 169]],\n",
       "\n",
       "       [[164, 180, 169],\n",
       "        [164, 180, 169],\n",
       "        [164, 180, 169],\n",
       "        ...,\n",
       "        [164, 180, 169],\n",
       "        [164, 180, 169],\n",
       "        [164, 180, 169]],\n",
       "\n",
       "       [[164, 180, 169],\n",
       "        [164, 180, 169],\n",
       "        [164, 180, 169],\n",
       "        ...,\n",
       "        [164, 180, 169],\n",
       "        [164, 180, 169],\n",
       "        [164, 180, 169]],\n",
       "\n",
       "       ...,\n",
       "\n",
       "       [[179, 223, 252],\n",
       "        [139, 182, 214],\n",
       "        [127, 170, 204],\n",
       "        ...,\n",
       "        [184, 232, 242],\n",
       "        [191, 239, 249],\n",
       "        [175, 223, 235]],\n",
       "\n",
       "       [[181, 225, 254],\n",
       "        [156, 199, 231],\n",
       "        [124, 167, 201],\n",
       "        ...,\n",
       "        [169, 217, 227],\n",
       "        [187, 235, 245],\n",
       "        [188, 236, 248]],\n",
       "\n",
       "       [[170, 214, 243],\n",
       "        [172, 215, 247],\n",
       "        [132, 175, 209],\n",
       "        ...,\n",
       "        [170, 218, 228],\n",
       "        [174, 222, 232],\n",
       "        [188, 236, 248]]], dtype=uint8)"
      ]
     },
     "execution_count": 4,
     "metadata": {},
     "output_type": "execute_result"
    }
   ],
   "source": [
    "sample_image"
   ]
  },
  {
   "cell_type": "code",
   "execution_count": 6,
   "id": "8a48c7ca-cf64-4ae7-8a62-6b9770273f7f",
   "metadata": {},
   "outputs": [
    {
     "data": {
      "text/plain": [
       "(400, 363, 3)"
      ]
     },
     "execution_count": 6,
     "metadata": {},
     "output_type": "execute_result"
    }
   ],
   "source": [
    "sample_image.shape"
   ]
  },
  {
   "cell_type": "code",
   "execution_count": 8,
   "id": "49e151e8-dbde-45ef-b6af-0167a7b7ec7b",
   "metadata": {},
   "outputs": [
    {
     "data": {
      "text/plain": [
       "435"
      ]
     },
     "execution_count": 8,
     "metadata": {},
     "output_type": "execute_result"
    }
   ],
   "source": [
    "sample_image.nbytes // 1000"
   ]
  }
 ],
 "metadata": {
  "kernelspec": {
   "display_name": "Python 3 (ipykernel)",
   "language": "python",
   "name": "python3"
  },
  "language_info": {
   "codemirror_mode": {
    "name": "ipython",
    "version": 3
   },
   "file_extension": ".py",
   "mimetype": "text/x-python",
   "name": "python",
   "nbconvert_exporter": "python",
   "pygments_lexer": "ipython3",
   "version": "3.10.12"
  }
 },
 "nbformat": 4,
 "nbformat_minor": 5
}

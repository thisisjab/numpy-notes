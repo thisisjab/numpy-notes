{
 "cells": [
  {
   "cell_type": "code",
   "execution_count": 1,
   "id": "921384d5-7c5a-41e1-bcd6-93afa74c4e69",
   "metadata": {},
   "outputs": [],
   "source": [
    "import numpy as np"
   ]
  },
  {
   "cell_type": "code",
   "execution_count": 2,
   "id": "777c6f62-f35b-4160-bc19-bffffc6800a9",
   "metadata": {},
   "outputs": [],
   "source": [
    "array = np.random.randint(1, 10, (3, 3), dtype='int8')"
   ]
  },
  {
   "cell_type": "code",
   "execution_count": 3,
   "id": "da87ede3-dedb-4154-b93e-a224b74a4185",
   "metadata": {},
   "outputs": [
    {
     "data": {
      "text/plain": [
       "array([[9, 2, 5],\n",
       "       [4, 7, 7],\n",
       "       [4, 4, 2]], dtype=int8)"
      ]
     },
     "execution_count": 3,
     "metadata": {},
     "output_type": "execute_result"
    }
   ],
   "source": [
    "array"
   ]
  },
  {
   "cell_type": "code",
   "execution_count": 4,
   "id": "59048dd9-4f00-4433-962d-b6d2c2914f5a",
   "metadata": {},
   "outputs": [
    {
     "data": {
      "text/plain": [
       "array([2, 4, 5, 7, 9], dtype=int8)"
      ]
     },
     "execution_count": 4,
     "metadata": {},
     "output_type": "execute_result"
    }
   ],
   "source": [
    "np.unique(array)"
   ]
  },
  {
   "cell_type": "markdown",
   "id": "199bd054-34aa-4748-b72a-5b27b501c9c6",
   "metadata": {},
   "source": [
    "# Variance\n",
    "The measure of the average degree to which each number is defferent from the mean value.\n",
    "Higher variance means wider range of numbers and the opposite."
   ]
  },
  {
   "cell_type": "code",
   "execution_count": 14,
   "id": "f9a3c869-063f-4a07-8ded-e19b9ede7e67",
   "metadata": {},
   "outputs": [
    {
     "name": "stdout",
     "output_type": "stream",
     "text": [
      "4.987654320987654 4.987654320987654\n"
     ]
    }
   ],
   "source": [
    "print(np.var(array), array.var())"
   ]
  },
  {
   "cell_type": "markdown",
   "id": "01110547-259a-47c4-bea6-9475ac714b72",
   "metadata": {},
   "source": [
    "# Standard Deviation\n",
    "The measure of how spread out are the numbers from the mean value."
   ]
  },
  {
   "cell_type": "code",
   "execution_count": 15,
   "id": "76fa48e0-a922-40aa-aa9c-504f57881b4a",
   "metadata": {},
   "outputs": [
    {
     "name": "stdout",
     "output_type": "stream",
     "text": [
      "2.23330569358242 2.23330569358242\n"
     ]
    }
   ],
   "source": [
    "print(np.std(array), array.std())"
   ]
  },
  {
   "cell_type": "code",
   "execution_count": 16,
   "id": "ed578b0b-65df-4c1c-b064-48f060ea103f",
   "metadata": {},
   "outputs": [
    {
     "data": {
      "text/plain": [
       "2.23330569358242"
      ]
     },
     "execution_count": 16,
     "metadata": {},
     "output_type": "execute_result"
    }
   ],
   "source": [
    "np.sqrt(np.var(array))"
   ]
  },
  {
   "cell_type": "markdown",
   "id": "b9f265c5-6c29-4a7a-beb6-59c02349e63d",
   "metadata": {},
   "source": [
    "### A few examples of `var` and `std`"
   ]
  },
  {
   "cell_type": "code",
   "execution_count": 17,
   "id": "f0722b12-ccd4-41e9-a873-fb578e887ff3",
   "metadata": {},
   "outputs": [],
   "source": [
    "high_var = np.array([2, 56, 78, 1200, 5600])\n",
    "low_var = np.array([1, 2, 3, 4, 5])"
   ]
  },
  {
   "cell_type": "code",
   "execution_count": 18,
   "id": "f4da7fdd-ab29-4ca4-a48d-3309e9815a88",
   "metadata": {},
   "outputs": [
    {
     "name": "stdout",
     "output_type": "stream",
     "text": [
      "4637520.96 2.0\n"
     ]
    }
   ],
   "source": [
    "print(high_var.var(), low_var.var())"
   ]
  },
  {
   "cell_type": "code",
   "execution_count": 19,
   "id": "24bbbbec-2765-4bcc-b58a-8c458ae2bb92",
   "metadata": {},
   "outputs": [
    {
     "name": "stdout",
     "output_type": "stream",
     "text": [
      "2153.490413259367 1.4142135623730951\n"
     ]
    }
   ],
   "source": [
    "print(high_var.std(), low_var.std())"
   ]
  },
  {
   "cell_type": "code",
   "execution_count": 20,
   "id": "bf8c0eca-a5a9-492f-b6ff-6039fe008bc8",
   "metadata": {},
   "outputs": [
    {
     "name": "stdout",
     "output_type": "stream",
     "text": [
      "1387.2 3.0\n"
     ]
    }
   ],
   "source": [
    "print(high_var.mean(), low_var.mean())"
   ]
  }
 ],
 "metadata": {
  "kernelspec": {
   "display_name": "Python 3 (ipykernel)",
   "language": "python",
   "name": "python3"
  },
  "language_info": {
   "codemirror_mode": {
    "name": "ipython",
    "version": 3
   },
   "file_extension": ".py",
   "mimetype": "text/x-python",
   "name": "python",
   "nbconvert_exporter": "python",
   "pygments_lexer": "ipython3",
   "version": "3.10.12"
  }
 },
 "nbformat": 4,
 "nbformat_minor": 5
}

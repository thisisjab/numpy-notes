{
 "cells": [
  {
   "cell_type": "code",
   "execution_count": 1,
   "id": "921384d5-7c5a-41e1-bcd6-93afa74c4e69",
   "metadata": {},
   "outputs": [],
   "source": [
    "import numpy as np"
   ]
  },
  {
   "cell_type": "code",
   "execution_count": 2,
   "id": "777c6f62-f35b-4160-bc19-bffffc6800a9",
   "metadata": {},
   "outputs": [],
   "source": [
    "array = np.random.randint(1, 10, (3, 3), dtype='int8')"
   ]
  },
  {
   "cell_type": "code",
   "execution_count": 3,
   "id": "da87ede3-dedb-4154-b93e-a224b74a4185",
   "metadata": {},
   "outputs": [
    {
     "data": {
      "text/plain": [
       "array([[3, 5, 4],\n",
       "       [4, 9, 2],\n",
       "       [8, 8, 6]], dtype=int8)"
      ]
     },
     "execution_count": 3,
     "metadata": {},
     "output_type": "execute_result"
    }
   ],
   "source": [
    "array"
   ]
  },
  {
   "cell_type": "code",
   "execution_count": 4,
   "id": "59048dd9-4f00-4433-962d-b6d2c2914f5a",
   "metadata": {},
   "outputs": [
    {
     "data": {
      "text/plain": [
       "array([2, 3, 4, 5, 6, 8, 9], dtype=int8)"
      ]
     },
     "execution_count": 4,
     "metadata": {},
     "output_type": "execute_result"
    }
   ],
   "source": [
    "np.unique(array)"
   ]
  },
  {
   "cell_type": "markdown",
   "id": "199bd054-34aa-4748-b72a-5b27b501c9c6",
   "metadata": {},
   "source": [
    "# Variance\n",
    "The measure of the average degree to which each number is defferent from the mean value.\n",
    "Higher variance means wider range of numbers and the opposite."
   ]
  },
  {
   "cell_type": "code",
   "execution_count": 5,
   "id": "f9a3c869-063f-4a07-8ded-e19b9ede7e67",
   "metadata": {},
   "outputs": [
    {
     "name": "stdout",
     "output_type": "stream",
     "text": [
      "5.3580246913580245 5.3580246913580245\n"
     ]
    }
   ],
   "source": [
    "print(np.var(array), array.var())"
   ]
  },
  {
   "cell_type": "markdown",
   "id": "01110547-259a-47c4-bea6-9475ac714b72",
   "metadata": {},
   "source": [
    "# Standard Deviation\n",
    "The measure of how spread out are the numbers from the mean value."
   ]
  },
  {
   "cell_type": "code",
   "execution_count": 6,
   "id": "76fa48e0-a922-40aa-aa9c-504f57881b4a",
   "metadata": {},
   "outputs": [
    {
     "name": "stdout",
     "output_type": "stream",
     "text": [
      "2.3147407395555177 2.3147407395555177\n"
     ]
    }
   ],
   "source": [
    "print(np.std(array), array.std())"
   ]
  },
  {
   "cell_type": "code",
   "execution_count": 7,
   "id": "ed578b0b-65df-4c1c-b064-48f060ea103f",
   "metadata": {},
   "outputs": [
    {
     "data": {
      "text/plain": [
       "2.3147407395555177"
      ]
     },
     "execution_count": 7,
     "metadata": {},
     "output_type": "execute_result"
    }
   ],
   "source": [
    "np.sqrt(np.var(array))"
   ]
  },
  {
   "cell_type": "markdown",
   "id": "b9f265c5-6c29-4a7a-beb6-59c02349e63d",
   "metadata": {},
   "source": [
    "### A few examples of `var` and `std`"
   ]
  },
  {
   "cell_type": "code",
   "execution_count": 8,
   "id": "f0722b12-ccd4-41e9-a873-fb578e887ff3",
   "metadata": {},
   "outputs": [],
   "source": [
    "high_var = np.array([2, 56, 78, 1200, 5600])\n",
    "low_var = np.array([1, 2, 3, 4, 5])"
   ]
  },
  {
   "cell_type": "code",
   "execution_count": 9,
   "id": "f4da7fdd-ab29-4ca4-a48d-3309e9815a88",
   "metadata": {},
   "outputs": [
    {
     "name": "stdout",
     "output_type": "stream",
     "text": [
      "4637520.96 2.0\n"
     ]
    }
   ],
   "source": [
    "print(high_var.var(), low_var.var())"
   ]
  },
  {
   "cell_type": "code",
   "execution_count": 10,
   "id": "24bbbbec-2765-4bcc-b58a-8c458ae2bb92",
   "metadata": {},
   "outputs": [
    {
     "name": "stdout",
     "output_type": "stream",
     "text": [
      "2153.490413259367 1.4142135623730951\n"
     ]
    }
   ],
   "source": [
    "print(high_var.std(), low_var.std())"
   ]
  },
  {
   "cell_type": "code",
   "execution_count": 11,
   "id": "bf8c0eca-a5a9-492f-b6ff-6039fe008bc8",
   "metadata": {},
   "outputs": [
    {
     "name": "stdout",
     "output_type": "stream",
     "text": [
      "1387.2 3.0\n"
     ]
    }
   ],
   "source": [
    "print(high_var.mean(), low_var.mean())"
   ]
  },
  {
   "cell_type": "markdown",
   "id": "ebb18e12-aedd-48db-8e90-74ca753754e2",
   "metadata": {},
   "source": [
    "# Reshaping and Transposing"
   ]
  },
  {
   "cell_type": "code",
   "execution_count": 14,
   "id": "75fae1c2-ed14-412d-a8f4-4368d915f974",
   "metadata": {},
   "outputs": [],
   "source": [
    "example_array = np.random.randint(1, 10, (2, 8), dtype='int8')"
   ]
  },
  {
   "cell_type": "code",
   "execution_count": 15,
   "id": "2758ff96-a388-4167-a9d2-98d3bdd2aa01",
   "metadata": {},
   "outputs": [
    {
     "data": {
      "text/plain": [
       "array([[1, 8, 9, 7, 1, 8, 9, 2],\n",
       "       [7, 3, 1, 3, 2, 1, 7, 5]], dtype=int8)"
      ]
     },
     "execution_count": 15,
     "metadata": {},
     "output_type": "execute_result"
    }
   ],
   "source": [
    "example_array"
   ]
  },
  {
   "cell_type": "code",
   "execution_count": 16,
   "id": "03d5cd31-193a-47f9-b37f-adba2118803f",
   "metadata": {},
   "outputs": [
    {
     "data": {
      "text/plain": [
       "array([[1, 8, 9, 7],\n",
       "       [1, 8, 9, 2],\n",
       "       [7, 3, 1, 3],\n",
       "       [2, 1, 7, 5]], dtype=int8)"
      ]
     },
     "execution_count": 16,
     "metadata": {},
     "output_type": "execute_result"
    }
   ],
   "source": [
    "example_array.reshape(4, 4)"
   ]
  },
  {
   "cell_type": "markdown",
   "id": "2def5d24-88e3-4a9e-8524-4005014e8f31",
   "metadata": {},
   "source": [
    "# Math Product"
   ]
  },
  {
   "cell_type": "code",
   "execution_count": 24,
   "id": "36efadf1-a401-4bbc-b08e-f885ec4af4fb",
   "metadata": {},
   "outputs": [],
   "source": [
    "# hadamard product\n",
    "a, b = np.random.randint(1, 10, (3, 3)), np.random.randint(1, 10, (3, 3))"
   ]
  },
  {
   "cell_type": "code",
   "execution_count": 25,
   "id": "c8085a51-1667-4009-a373-6906e9b7f79e",
   "metadata": {},
   "outputs": [
    {
     "name": "stdout",
     "output_type": "stream",
     "text": [
      "[[6 5 7]\n",
      " [9 4 4]\n",
      " [7 8 4]]\n"
     ]
    }
   ],
   "source": [
    "print(a)"
   ]
  },
  {
   "cell_type": "code",
   "execution_count": 26,
   "id": "ded7b1a8-19ba-443c-bc52-dada1d910a38",
   "metadata": {},
   "outputs": [
    {
     "name": "stdout",
     "output_type": "stream",
     "text": [
      "[[8 6 4]\n",
      " [1 8 6]\n",
      " [8 9 4]]\n"
     ]
    }
   ],
   "source": [
    "print(b)"
   ]
  },
  {
   "cell_type": "code",
   "execution_count": 27,
   "id": "8b56ac8e-99ca-4346-8cad-a4c6f9e6c61e",
   "metadata": {},
   "outputs": [
    {
     "data": {
      "text/plain": [
       "array([[48, 30, 28],\n",
       "       [ 9, 32, 24],\n",
       "       [56, 72, 16]])"
      ]
     },
     "execution_count": 27,
     "metadata": {},
     "output_type": "execute_result"
    }
   ],
   "source": [
    "a * b"
   ]
  },
  {
   "cell_type": "code",
   "execution_count": 28,
   "id": "8bafeb62-ccea-4968-9f3a-5dd3291c4e90",
   "metadata": {},
   "outputs": [
    {
     "data": {
      "text/plain": [
       "array([[109, 139,  82],\n",
       "       [108, 122,  76],\n",
       "       [ 96, 142,  92]])"
      ]
     },
     "execution_count": 28,
     "metadata": {},
     "output_type": "execute_result"
    }
   ],
   "source": [
    "np.dot(a, b)"
   ]
  },
  {
   "cell_type": "markdown",
   "id": "75465eeb-f8c4-4258-ba30-041a84dec640",
   "metadata": {},
   "source": [
    "Let's have an example of dot product using with transposing."
   ]
  },
  {
   "cell_type": "code",
   "execution_count": 31,
   "id": "b5ac85e3-d0bb-4385-89af-89936875700e",
   "metadata": {},
   "outputs": [
    {
     "name": "stdout",
     "output_type": "stream",
     "text": [
      "[[1 5 2]\n",
      " [7 9 7]\n",
      " [6 7 5]\n",
      " [5 7 6]\n",
      " [7 1 8]]\n",
      "\n",
      "[[9 2 5]\n",
      " [3 9 6]\n",
      " [9 6 9]\n",
      " [4 2 9]\n",
      " [2 8 7]]\n"
     ]
    }
   ],
   "source": [
    "x, y = np.random.randint(1, 10, (5, 3)), np.random.randint(1, 10, (5, 3))\n",
    "print(x, y, sep='\\n\\n')"
   ]
  },
  {
   "cell_type": "code",
   "execution_count": 32,
   "id": "b41e6af9-a65d-46f8-89bd-80bc85b9fe25",
   "metadata": {},
   "outputs": [
    {
     "data": {
      "text/plain": [
       "(5, 3)"
      ]
     },
     "execution_count": 32,
     "metadata": {},
     "output_type": "execute_result"
    }
   ],
   "source": [
    "x.shape"
   ]
  },
  {
   "cell_type": "code",
   "execution_count": 34,
   "id": "188e9bb6-ec0c-44be-9314-56060c0526ce",
   "metadata": {},
   "outputs": [],
   "source": [
    "x = x.T"
   ]
  },
  {
   "cell_type": "code",
   "execution_count": 35,
   "id": "58992233-0f18-435e-8be2-498ff6e05e8f",
   "metadata": {},
   "outputs": [
    {
     "data": {
      "text/plain": [
       "(3, 5)"
      ]
     },
     "execution_count": 35,
     "metadata": {},
     "output_type": "execute_result"
    }
   ],
   "source": [
    "x.shape"
   ]
  },
  {
   "cell_type": "code",
   "execution_count": 36,
   "id": "87eea44b-a624-4533-bb00-f70c5762ee9a",
   "metadata": {},
   "outputs": [
    {
     "data": {
      "text/plain": [
       "array([[1, 7, 6, 5, 7],\n",
       "       [5, 9, 7, 7, 1],\n",
       "       [2, 7, 5, 6, 8]])"
      ]
     },
     "execution_count": 36,
     "metadata": {},
     "output_type": "execute_result"
    }
   ],
   "source": [
    "x"
   ]
  },
  {
   "cell_type": "code",
   "execution_count": 37,
   "id": "a4bbb356-a4a3-4813-b3d8-4be110ad664d",
   "metadata": {},
   "outputs": [
    {
     "data": {
      "text/plain": [
       "array([[118, 167, 195],\n",
       "       [165, 155, 212],\n",
       "       [124, 173, 207]])"
      ]
     },
     "execution_count": 37,
     "metadata": {},
     "output_type": "execute_result"
    }
   ],
   "source": [
    "np.dot(x, y)"
   ]
  }
 ],
 "metadata": {
  "kernelspec": {
   "display_name": "Python 3 (ipykernel)",
   "language": "python",
   "name": "python3"
  },
  "language_info": {
   "codemirror_mode": {
    "name": "ipython",
    "version": 3
   },
   "file_extension": ".py",
   "mimetype": "text/x-python",
   "name": "python",
   "nbconvert_exporter": "python",
   "pygments_lexer": "ipython3",
   "version": "3.10.12"
  }
 },
 "nbformat": 4,
 "nbformat_minor": 5
}

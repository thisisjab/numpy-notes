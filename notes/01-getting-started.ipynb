{
 "cells": [
  {
   "cell_type": "code",
   "execution_count": 1,
   "id": "5c054041-411a-4df6-8c6d-5a5183fe5668",
   "metadata": {},
   "outputs": [],
   "source": [
    "import numpy as np"
   ]
  },
  {
   "cell_type": "code",
   "execution_count": 2,
   "id": "2f20ddee-dbce-4bce-b336-906f5e09dca8",
   "metadata": {},
   "outputs": [
    {
     "data": {
      "text/plain": [
       "array([1, 5, 6])"
      ]
     },
     "execution_count": 2,
     "metadata": {},
     "output_type": "execute_result"
    }
   ],
   "source": [
    "np.array([1, 5, 6])"
   ]
  },
  {
   "cell_type": "code",
   "execution_count": 4,
   "id": "1608fe0b-95eb-45d6-937f-15f6536b2f3f",
   "metadata": {},
   "outputs": [
    {
     "name": "stdout",
     "output_type": "stream",
     "text": [
      "[[ 34.23  43.4   23.03]\n",
      " [  8.   234.    43.  ]]\n"
     ]
    }
   ],
   "source": [
    "example_array = np.array([[34.23, 43.4, 23.03], [8, 234, 43]])\n",
    "print(example_array)"
   ]
  },
  {
   "cell_type": "code",
   "execution_count": 5,
   "id": "2ad3738c-94f8-4b98-86c4-f8878106eb73",
   "metadata": {},
   "outputs": [
    {
     "data": {
      "text/plain": [
       "2"
      ]
     },
     "execution_count": 5,
     "metadata": {},
     "output_type": "execute_result"
    }
   ],
   "source": [
    "example_array.ndim  # shows number of dimensions"
   ]
  },
  {
   "cell_type": "code",
   "execution_count": 6,
   "id": "337f9f0c-3be8-40c2-9b55-cc9b62eaa453",
   "metadata": {},
   "outputs": [
    {
     "data": {
      "text/plain": [
       "(2, 3)"
      ]
     },
     "execution_count": 6,
     "metadata": {},
     "output_type": "execute_result"
    }
   ],
   "source": [
    "example_array.shape"
   ]
  },
  {
   "cell_type": "code",
   "execution_count": 8,
   "id": "298713bd-0f89-4165-a436-a505ee55ace8",
   "metadata": {},
   "outputs": [
    {
     "data": {
      "text/plain": [
       "dtype('float64')"
      ]
     },
     "execution_count": 8,
     "metadata": {},
     "output_type": "execute_result"
    }
   ],
   "source": [
    "example_array.dtype"
   ]
  },
  {
   "cell_type": "code",
   "execution_count": 12,
   "id": "8e8def20-b237-44b1-85dc-e29aa1cb61ab",
   "metadata": {},
   "outputs": [
    {
     "data": {
      "text/plain": [
       "8"
      ]
     },
     "execution_count": 12,
     "metadata": {},
     "output_type": "execute_result"
    }
   ],
   "source": [
    "example_array.itemsize"
   ]
  },
  {
   "cell_type": "code",
   "execution_count": 10,
   "id": "34aeae52-24a8-453e-b3ed-1dd78ea35172",
   "metadata": {},
   "outputs": [],
   "source": [
    "another_array = np.array([34, 29, 58], dtype='float64')"
   ]
  },
  {
   "cell_type": "code",
   "execution_count": 13,
   "id": "f3f86089-5296-4632-8c72-aa01ae6680a3",
   "metadata": {},
   "outputs": [
    {
     "data": {
      "text/plain": [
       "8"
      ]
     },
     "execution_count": 13,
     "metadata": {},
     "output_type": "execute_result"
    }
   ],
   "source": [
    "another_array.itemsize"
   ]
  },
  {
   "cell_type": "code",
   "execution_count": 14,
   "id": "cfb5a129-6f5b-41e1-9307-f6ef02e7141b",
   "metadata": {},
   "outputs": [
    {
     "data": {
      "text/plain": [
       "24"
      ]
     },
     "execution_count": 14,
     "metadata": {},
     "output_type": "execute_result"
    }
   ],
   "source": [
    "another_array.nbytes"
   ]
  },
  {
   "cell_type": "code",
   "execution_count": 15,
   "id": "ef13e9df-e9f3-45df-8a38-20861a3284fa",
   "metadata": {},
   "outputs": [
    {
     "data": {
      "text/plain": [
       "True"
      ]
     },
     "execution_count": 15,
     "metadata": {},
     "output_type": "execute_result"
    }
   ],
   "source": [
    "another_array.nbytes == another_array.itemsize * another_array.size"
   ]
  },
  {
   "cell_type": "markdown",
   "id": "00ffc746-4d3a-4f31-9a00-b2e977989418",
   "metadata": {},
   "source": [
    "### Accessing/Changing Items"
   ]
  },
  {
   "cell_type": "code",
   "execution_count": 16,
   "id": "406539dc-cb9a-4232-93b5-1d95029d55f8",
   "metadata": {},
   "outputs": [],
   "source": [
    "array = np.array([[1, 2, 3, 4, 5],\n",
    "                      [6, 7, 8, 9, 10],\n",
    "                      [11, 12, 13, 14, 15],\n",
    "                      [16, 17, 18, 19, 20],\n",
    "                      [21, 22, 23, 24, 25]])"
   ]
  },
  {
   "cell_type": "code",
   "execution_count": 18,
   "id": "a3740358-fee3-40c9-a28c-9d2d60b8b3c4",
   "metadata": {},
   "outputs": [
    {
     "name": "stdout",
     "output_type": "stream",
     "text": [
      "[[ 1  2  3  4  5]\n",
      " [ 6  7  8  9 10]\n",
      " [11 12 13 14 15]\n",
      " [16 17 18 19 20]\n",
      " [21 22 23 24 25]]\n"
     ]
    }
   ],
   "source": [
    "print(array)"
   ]
  },
  {
   "cell_type": "code",
   "execution_count": 19,
   "id": "410a084c-d38e-4443-b2eb-af842aed7404",
   "metadata": {},
   "outputs": [
    {
     "data": {
      "text/plain": [
       "7"
      ]
     },
     "execution_count": 19,
     "metadata": {},
     "output_type": "execute_result"
    }
   ],
   "source": [
    "array[1, 1]"
   ]
  },
  {
   "cell_type": "code",
   "execution_count": 20,
   "id": "af8007d4-1b47-480c-b66e-5b32787c2772",
   "metadata": {},
   "outputs": [
    {
     "data": {
      "text/plain": [
       "array([21, 22, 23, 24, 25])"
      ]
     },
     "execution_count": 20,
     "metadata": {},
     "output_type": "execute_result"
    }
   ],
   "source": [
    "array[4, :]"
   ]
  },
  {
   "cell_type": "code",
   "execution_count": 21,
   "id": "57d227ba-d84c-4ffa-80be-6179894470da",
   "metadata": {},
   "outputs": [
    {
     "data": {
      "text/plain": [
       "array([ 3,  8, 13, 18, 23])"
      ]
     },
     "execution_count": 21,
     "metadata": {},
     "output_type": "execute_result"
    }
   ],
   "source": [
    "array[:, 2]"
   ]
  },
  {
   "cell_type": "code",
   "execution_count": 24,
   "id": "82826d8b-8269-4914-8a68-43da7e5b1fd5",
   "metadata": {},
   "outputs": [
    {
     "data": {
      "text/plain": [
       "array([1, 3, 5])"
      ]
     },
     "execution_count": 24,
     "metadata": {},
     "output_type": "execute_result"
    }
   ],
   "source": [
    "array[0, 0:5:2]"
   ]
  },
  {
   "cell_type": "code",
   "execution_count": 25,
   "id": "2e6f49f2-2f36-4293-9a0d-d9f3ba6f6db7",
   "metadata": {},
   "outputs": [],
   "source": [
    "array[3, 3] = 87"
   ]
  },
  {
   "cell_type": "code",
   "execution_count": 26,
   "id": "251df351-e075-41c9-a7fa-19239e440f67",
   "metadata": {},
   "outputs": [
    {
     "name": "stdout",
     "output_type": "stream",
     "text": [
      "[[ 1  2  3  4  5]\n",
      " [ 6  7  8  9 10]\n",
      " [11 12 13 14 15]\n",
      " [16 17 18 87 20]\n",
      " [21 22 23 24 25]]\n"
     ]
    }
   ],
   "source": [
    "print(array)"
   ]
  },
  {
   "cell_type": "code",
   "execution_count": 31,
   "id": "e73ec07c-acc4-4ee4-9ef3-4940f89f99ab",
   "metadata": {},
   "outputs": [],
   "source": [
    "array[3], array[:, 2] = 0, 0"
   ]
  },
  {
   "cell_type": "code",
   "execution_count": 32,
   "id": "e83c5a2a-7ff6-45bf-a106-6761cc59fca1",
   "metadata": {},
   "outputs": [
    {
     "name": "stdout",
     "output_type": "stream",
     "text": [
      "[[ 1  2  0  4  5]\n",
      " [ 6  7  0  9 10]\n",
      " [11 12  0 14 15]\n",
      " [ 0  0  0  0  0]\n",
      " [21 22  0 24 25]]\n"
     ]
    }
   ],
   "source": [
    "print(array)"
   ]
  },
  {
   "cell_type": "markdown",
   "id": "e66d3275-b91e-41b4-9391-dfed3eff309f",
   "metadata": {},
   "source": [
    "### Initializing Different Types"
   ]
  },
  {
   "cell_type": "code",
   "execution_count": 36,
   "id": "96d18715-a2f3-4c55-97d0-745dada6d207",
   "metadata": {},
   "outputs": [
    {
     "name": "stdout",
     "output_type": "stream",
     "text": [
      "[[0. 0. 0. 0. 0. 0.]\n",
      " [0. 0. 0. 0. 0. 0.]\n",
      " [0. 0. 0. 0. 0. 0.]\n",
      " [0. 0. 0. 0. 0. 0.]\n",
      " [0. 0. 0. 0. 0. 0.]\n",
      " [0. 0. 0. 0. 0. 0.]]\n"
     ]
    }
   ],
   "source": [
    "# All 0s matrix\n",
    "zeros = np.zeros((6, 6))\n",
    "print(zeros)"
   ]
  },
  {
   "cell_type": "code",
   "execution_count": 42,
   "id": "c40d0ad1-f66a-40d4-b8d0-1222d5efb685",
   "metadata": {},
   "outputs": [
    {
     "name": "stdout",
     "output_type": "stream",
     "text": [
      "[[1 1]\n",
      " [1 1]\n",
      " [1 1]\n",
      " [1 1]\n",
      " [1 1]\n",
      " [1 1]]\n"
     ]
    }
   ],
   "source": [
    "# All 1s matrix\n",
    "ones = np.ones((6, 2), dtype='int16')\n",
    "print(ones)"
   ]
  },
  {
   "cell_type": "code",
   "execution_count": 41,
   "id": "56d84c89-3271-422c-8915-dfd6d034fa66",
   "metadata": {},
   "outputs": [
    {
     "name": "stdout",
     "output_type": "stream",
     "text": [
      "[[25 25]\n",
      " [25 25]\n",
      " [25 25]\n",
      " [25 25]\n",
      " [25 25]\n",
      " [25 25]\n",
      " [25 25]]\n"
     ]
    }
   ],
   "source": [
    "# Matrix filled with a number\n",
    "example_array = np.full((7, 2), 25)\n",
    "print(example_array)"
   ]
  },
  {
   "cell_type": "code",
   "execution_count": 45,
   "id": "7e1cbf4c-4689-4cbd-947e-1955053dbf87",
   "metadata": {},
   "outputs": [
    {
     "name": "stdout",
     "output_type": "stream",
     "text": [
      "[[7 7 5 6 5 6]\n",
      " [7 5 7 6 7 6]\n",
      " [5 5 6 6 5 6]\n",
      " [7 7 7 6 7 7]\n",
      " [6 7 6 7 6 6]\n",
      " [5 6 5 5 5 5]]\n"
     ]
    }
   ],
   "source": [
    "# Create a matrix with random values\n",
    "random_array = np.random.randint(5, 8, zeros.shape, dtype='int16')\n",
    "print(random_array)"
   ]
  },
  {
   "cell_type": "code",
   "execution_count": 48,
   "id": "9c96fe9e-8943-421a-bc71-5ae2b0657059",
   "metadata": {},
   "outputs": [
    {
     "name": "stdout",
     "output_type": "stream",
     "text": [
      "[[1 0 0 0]\n",
      " [0 1 0 0]\n",
      " [0 0 1 0]\n",
      " [0 0 0 1]]\n"
     ]
    }
   ],
   "source": [
    "# Identity matrix\n",
    "print(np.identity(4, dtype='int8'))"
   ]
  },
  {
   "cell_type": "code",
   "execution_count": 49,
   "id": "5b752856-ef86-4bf7-a08c-00b52b5f466a",
   "metadata": {},
   "outputs": [
    {
     "name": "stdout",
     "output_type": "stream",
     "text": [
      "[1 1 1 2 2 2 3 3 3]\n"
     ]
    }
   ],
   "source": [
    "# Repeating an array\n",
    "repeatition = np.repeat([[1, 2, 3]], 3)\n",
    "print(repeatition)"
   ]
  },
  {
   "cell_type": "markdown",
   "id": "b521553f-0c1b-4e03-a8d3-5932754aedb7",
   "metadata": {},
   "source": [
    "### Mathematics"
   ]
  },
  {
   "cell_type": "code",
   "execution_count": 50,
   "id": "c61776b7-7781-400d-ae06-24ff757434e2",
   "metadata": {},
   "outputs": [],
   "source": [
    "number = np.random.randint(0, 10, (5,5), dtype='int32')"
   ]
  },
  {
   "cell_type": "code",
   "execution_count": 51,
   "id": "b3f97319-4211-4e0b-9278-08b5bbf96b30",
   "metadata": {},
   "outputs": [
    {
     "name": "stdout",
     "output_type": "stream",
     "text": [
      "[[6 0 5 9 8]\n",
      " [3 4 1 3 2]\n",
      " [7 7 3 4 8]\n",
      " [5 1 0 6 2]\n",
      " [1 4 2 8 7]]\n"
     ]
    }
   ],
   "source": [
    "print(number)"
   ]
  },
  {
   "cell_type": "code",
   "execution_count": 52,
   "id": "49c21913-77a6-4146-8c98-8ade82e11a90",
   "metadata": {},
   "outputs": [
    {
     "data": {
      "text/plain": [
       "array([[0.6, 0. , 0.5, 0.9, 0.8],\n",
       "       [0.3, 0.4, 0.1, 0.3, 0.2],\n",
       "       [0.7, 0.7, 0.3, 0.4, 0.8],\n",
       "       [0.5, 0.1, 0. , 0.6, 0.2],\n",
       "       [0.1, 0.4, 0.2, 0.8, 0.7]])"
      ]
     },
     "execution_count": 52,
     "metadata": {},
     "output_type": "execute_result"
    }
   ],
   "source": [
    "number / 10"
   ]
  },
  {
   "cell_type": "code",
   "execution_count": 53,
   "id": "9c2273bb-7514-4d73-afdc-c18b9e7af9df",
   "metadata": {},
   "outputs": [
    {
     "data": {
      "text/plain": [
       "array([[12,  0, 10, 18, 16],\n",
       "       [ 6,  8,  2,  6,  4],\n",
       "       [14, 14,  6,  8, 16],\n",
       "       [10,  2,  0, 12,  4],\n",
       "       [ 2,  8,  4, 16, 14]], dtype=int32)"
      ]
     },
     "execution_count": 53,
     "metadata": {},
     "output_type": "execute_result"
    }
   ],
   "source": [
    "number * 2"
   ]
  },
  {
   "cell_type": "code",
   "execution_count": 54,
   "id": "7dd0071f-5f84-4eef-a182-34bcb4ee3235",
   "metadata": {},
   "outputs": [
    {
     "data": {
      "text/plain": [
       "array([[16, 10, 15, 19, 18],\n",
       "       [13, 14, 11, 13, 12],\n",
       "       [17, 17, 13, 14, 18],\n",
       "       [15, 11, 10, 16, 12],\n",
       "       [11, 14, 12, 18, 17]], dtype=int32)"
      ]
     },
     "execution_count": 54,
     "metadata": {},
     "output_type": "execute_result"
    }
   ],
   "source": [
    "number + 10"
   ]
  },
  {
   "cell_type": "code",
   "execution_count": 55,
   "id": "a83f7d2d-5c95-4f13-96cd-ee1358eaad2f",
   "metadata": {},
   "outputs": [
    {
     "data": {
      "text/plain": [
       "array([[ -4, -10,  -5,  -1,  -2],\n",
       "       [ -7,  -6,  -9,  -7,  -8],\n",
       "       [ -3,  -3,  -7,  -6,  -2],\n",
       "       [ -5,  -9, -10,  -4,  -8],\n",
       "       [ -9,  -6,  -8,  -2,  -3]], dtype=int32)"
      ]
     },
     "execution_count": 55,
     "metadata": {},
     "output_type": "execute_result"
    }
   ],
   "source": [
    "number - 10"
   ]
  },
  {
   "cell_type": "markdown",
   "id": "101b8ca4-f17b-4db8-8cf1-7cc4a72231a2",
   "metadata": {},
   "source": [
    "### Linear Algebra"
   ]
  },
  {
   "cell_type": "code",
   "execution_count": 59,
   "id": "4c0aa41e-52c6-41c3-8d07-000e1b073dad",
   "metadata": {},
   "outputs": [
    {
     "name": "stdout",
     "output_type": "stream",
     "text": [
      "[[5 5]\n",
      " [5 5]\n",
      " [5 4]]\n",
      "\n",
      "[[2 1 2]\n",
      " [2 2 2]]\n"
     ]
    }
   ],
   "source": [
    "a = np.random.randint(4, 6, (3, 2), dtype='int16')\n",
    "b = np.random.randint(1, 3, (2, 3), dtype='int16')\n",
    "print(a)\n",
    "print()\n",
    "print(b)"
   ]
  },
  {
   "cell_type": "code",
   "execution_count": 63,
   "id": "b2e46bad-7678-46e3-b53c-23b78d6e13d2",
   "metadata": {},
   "outputs": [
    {
     "data": {
      "text/plain": [
       "array([[25, 23],\n",
       "       [30, 28]], dtype=int16)"
      ]
     },
     "execution_count": 63,
     "metadata": {},
     "output_type": "execute_result"
    }
   ],
   "source": [
    "np.matmul(b, a)"
   ]
  },
  {
   "cell_type": "code",
   "execution_count": 67,
   "id": "3ca5fcdb-7bb4-4c8b-ad0f-d72a010d245a",
   "metadata": {},
   "outputs": [
    {
     "name": "stdout",
     "output_type": "stream",
     "text": [
      "[[4 2 4]\n",
      " [1 7 5]\n",
      " [9 2 4]]\n"
     ]
    },
    {
     "data": {
      "text/plain": [
       "-90.0"
      ]
     },
     "execution_count": 67,
     "metadata": {},
     "output_type": "execute_result"
    }
   ],
   "source": [
    "# Calculate determinant\n",
    "c = np.random.randint(1, 10, (3, 3), dtype='int16')\n",
    "print(c)\n",
    "np.linalg.det(c)"
   ]
  },
  {
   "cell_type": "markdown",
   "id": "6c2caa3b-6365-48fc-921c-c23472a11ac2",
   "metadata": {},
   "source": [
    "They are so many things that you can do that is available in numpy's documentation."
   ]
  },
  {
   "cell_type": "markdown",
   "id": "370e43d0-bc79-411e-8b23-4b5ac640cd81",
   "metadata": {},
   "source": [
    "### Statistics"
   ]
  },
  {
   "cell_type": "code",
   "execution_count": 70,
   "id": "17fb6a9e-3ec3-444c-826f-c0fdb7854682",
   "metadata": {},
   "outputs": [
    {
     "name": "stdout",
     "output_type": "stream",
     "text": [
      "[[3 5 6]\n",
      " [1 4 2]]\n"
     ]
    }
   ],
   "source": [
    "d = np.array([[3, 5, 6], [1, 4, 2]])\n",
    "print(d)"
   ]
  },
  {
   "cell_type": "code",
   "execution_count": 71,
   "id": "52157de7-04a2-4a77-b115-62d5f6d289de",
   "metadata": {},
   "outputs": [
    {
     "data": {
      "text/plain": [
       "1"
      ]
     },
     "execution_count": 71,
     "metadata": {},
     "output_type": "execute_result"
    }
   ],
   "source": [
    "np.min(d)"
   ]
  },
  {
   "cell_type": "code",
   "execution_count": 72,
   "id": "a698624f-d368-4c6a-95e6-1699b003b992",
   "metadata": {},
   "outputs": [
    {
     "data": {
      "text/plain": [
       "6"
      ]
     },
     "execution_count": 72,
     "metadata": {},
     "output_type": "execute_result"
    }
   ],
   "source": [
    "np.max(d)"
   ]
  },
  {
   "cell_type": "code",
   "execution_count": 73,
   "id": "8ae5d96e-e06b-4623-b130-d5c1ea4621c4",
   "metadata": {},
   "outputs": [
    {
     "data": {
      "text/plain": [
       "21"
      ]
     },
     "execution_count": 73,
     "metadata": {},
     "output_type": "execute_result"
    }
   ],
   "source": [
    "np.sum(d)"
   ]
  },
  {
   "cell_type": "markdown",
   "id": "07f0d55f-6d02-4d2c-8126-21bf3eb23c34",
   "metadata": {},
   "source": [
    "### Reorganizing"
   ]
  },
  {
   "cell_type": "code",
   "execution_count": 74,
   "id": "1313bede-637b-42c7-a4d5-0540a700bb47",
   "metadata": {},
   "outputs": [
    {
     "name": "stdout",
     "output_type": "stream",
     "text": [
      "[[2 4 5 8]\n",
      " [1 8 5 3]]\n"
     ]
    }
   ],
   "source": [
    "e = np.random.randint(1, 10, (2, 4), dtype='int16')\n",
    "print(e)"
   ]
  },
  {
   "cell_type": "code",
   "execution_count": 76,
   "id": "7e92d039-98f4-49eb-8b78-1cf8afffc9b3",
   "metadata": {},
   "outputs": [
    {
     "name": "stdout",
     "output_type": "stream",
     "text": [
      "[[2 4 5 8 1 8 5 3]]\n"
     ]
    }
   ],
   "source": [
    "print(e.reshape(1, 8))"
   ]
  },
  {
   "cell_type": "code",
   "execution_count": 77,
   "id": "ef7ada5d-aed4-48c4-998c-c2b3623c14a3",
   "metadata": {},
   "outputs": [
    {
     "name": "stdout",
     "output_type": "stream",
     "text": [
      "[[2 4]\n",
      " [5 8]\n",
      " [1 8]\n",
      " [5 3]]\n"
     ]
    }
   ],
   "source": [
    "print(e.reshape(4, 2))"
   ]
  },
  {
   "cell_type": "code",
   "execution_count": 81,
   "id": "c5c038a0-499b-4eb6-b04a-52434e0cbeea",
   "metadata": {},
   "outputs": [
    {
     "name": "stdout",
     "output_type": "stream",
     "text": [
      "[[1 2 3 4]\n",
      " [5 6 7 8]]\n"
     ]
    }
   ],
   "source": [
    "# Vertically stacking\n",
    "v1 = np.array([1, 2, 3, 4])\n",
    "v2 = np.array([5, 6, 7, 8])\n",
    "print(np.vstack([v1, v2]))"
   ]
  },
  {
   "cell_type": "markdown",
   "id": "250cb9e2-2a57-4468-b8dd-2ef221a3e3ec",
   "metadata": {},
   "source": [
    "You can use `hstack()` and many other functions. Since they are not used a lot in daily basis, they are not covered here."
   ]
  }
 ],
 "metadata": {
  "kernelspec": {
   "display_name": "Python 3 (ipykernel)",
   "language": "python",
   "name": "python3"
  },
  "language_info": {
   "codemirror_mode": {
    "name": "ipython",
    "version": 3
   },
   "file_extension": ".py",
   "mimetype": "text/x-python",
   "name": "python",
   "nbconvert_exporter": "python",
   "pygments_lexer": "ipython3",
   "version": "3.10.12"
  }
 },
 "nbformat": 4,
 "nbformat_minor": 5
}
